{
 "cells": [
  {
   "cell_type": "code",
   "execution_count": 38,
   "id": "5ac1fa7e",
   "metadata": {},
   "outputs": [
    {
     "name": "stdout",
     "output_type": "stream",
     "text": [
      "Qual seu número USP?\n",
      "12511336\n",
      "E a sua senha?\n",
      "Usp375335789741@\n",
      "thomas.ablas@usp.br\n",
      "yasserlopes@usp.br\n",
      "gabrielahibner@usp.br\n",
      "marcioaddas@usp.br\n",
      "tomas.aguirre@usp.br\n",
      "victoryatsugafu@usp.br\n"
     ]
    },
    {
     "ename": "NoSuchWindowException",
     "evalue": "Message: no such window: target window already closed\nfrom unknown error: web view not found\n  (Session info: chrome=117.0.5938.134)\nStacktrace:\n\tGetHandleVerifier [0x00007FF76FAD52A2+57122]\n\t(No symbol) [0x00007FF76FA4EA92]\n\t(No symbol) [0x00007FF76F91E3AB]\n\t(No symbol) [0x00007FF76F8FE1B9]\n\t(No symbol) [0x00007FF76F97B417]\n\t(No symbol) [0x00007FF76F98E24F]\n\t(No symbol) [0x00007FF76F976DB3]\n\t(No symbol) [0x00007FF76F94D2B1]\n\t(No symbol) [0x00007FF76F94E494]\n\tGetHandleVerifier [0x00007FF76FD7EF82+2849794]\n\tGetHandleVerifier [0x00007FF76FDD1D24+3189156]\n\tGetHandleVerifier [0x00007FF76FDCACAF+3160367]\n\tGetHandleVerifier [0x00007FF76FB66D06+653702]\n\t(No symbol) [0x00007FF76FA5A208]\n\t(No symbol) [0x00007FF76FA562C4]\n\t(No symbol) [0x00007FF76FA563F6]\n\t(No symbol) [0x00007FF76FA467A3]\n\tBaseThreadInitThunk [0x00007FFC796A257D+29]\n\tRtlUserThreadStart [0x00007FFC7A64AA68+40]\n",
     "output_type": "error",
     "traceback": [
      "\u001b[1;31m---------------------------------------------------------------------------\u001b[0m",
      "\u001b[1;31mNoSuchWindowException\u001b[0m                     Traceback (most recent call last)",
      "Input \u001b[1;32mIn [38]\u001b[0m, in \u001b[0;36m<cell line: 35>\u001b[1;34m()\u001b[0m\n\u001b[0;32m     43\u001b[0m         \u001b[38;5;28;01mexcept\u001b[39;00m:\n\u001b[0;32m     44\u001b[0m             \u001b[38;5;28;01mpass\u001b[39;00m\n\u001b[1;32m---> 45\u001b[0m         \u001b[43mdriver\u001b[49m\u001b[38;5;241;43m.\u001b[39;49m\u001b[43mback\u001b[49m\u001b[43m(\u001b[49m\u001b[43m)\u001b[49m\n\u001b[0;32m     47\u001b[0m driver\u001b[38;5;241m.\u001b[39mquit()\n",
      "File \u001b[1;32m~\\anaconda3\\lib\\site-packages\\selenium\\webdriver\\remote\\webdriver.py:547\u001b[0m, in \u001b[0;36mWebDriver.back\u001b[1;34m(self)\u001b[0m\n\u001b[0;32m    539\u001b[0m \u001b[38;5;28;01mdef\u001b[39;00m \u001b[38;5;21mback\u001b[39m(\u001b[38;5;28mself\u001b[39m) \u001b[38;5;241m-\u001b[39m\u001b[38;5;241m>\u001b[39m \u001b[38;5;28;01mNone\u001b[39;00m:\n\u001b[0;32m    540\u001b[0m     \u001b[38;5;124;03m\"\"\"Goes one step backward in the browser history.\u001b[39;00m\n\u001b[0;32m    541\u001b[0m \n\u001b[0;32m    542\u001b[0m \u001b[38;5;124;03m    :Usage:\u001b[39;00m\n\u001b[1;32m   (...)\u001b[0m\n\u001b[0;32m    545\u001b[0m \u001b[38;5;124;03m            driver.back()\u001b[39;00m\n\u001b[0;32m    546\u001b[0m \u001b[38;5;124;03m    \"\"\"\u001b[39;00m\n\u001b[1;32m--> 547\u001b[0m     \u001b[38;5;28;43mself\u001b[39;49m\u001b[38;5;241;43m.\u001b[39;49m\u001b[43mexecute\u001b[49m\u001b[43m(\u001b[49m\u001b[43mCommand\u001b[49m\u001b[38;5;241;43m.\u001b[39;49m\u001b[43mGO_BACK\u001b[49m\u001b[43m)\u001b[49m\n",
      "File \u001b[1;32m~\\anaconda3\\lib\\site-packages\\selenium\\webdriver\\remote\\webdriver.py:344\u001b[0m, in \u001b[0;36mWebDriver.execute\u001b[1;34m(self, driver_command, params)\u001b[0m\n\u001b[0;32m    342\u001b[0m response \u001b[38;5;241m=\u001b[39m \u001b[38;5;28mself\u001b[39m\u001b[38;5;241m.\u001b[39mcommand_executor\u001b[38;5;241m.\u001b[39mexecute(driver_command, params)\n\u001b[0;32m    343\u001b[0m \u001b[38;5;28;01mif\u001b[39;00m response:\n\u001b[1;32m--> 344\u001b[0m     \u001b[38;5;28;43mself\u001b[39;49m\u001b[38;5;241;43m.\u001b[39;49m\u001b[43merror_handler\u001b[49m\u001b[38;5;241;43m.\u001b[39;49m\u001b[43mcheck_response\u001b[49m\u001b[43m(\u001b[49m\u001b[43mresponse\u001b[49m\u001b[43m)\u001b[49m\n\u001b[0;32m    345\u001b[0m     response[\u001b[38;5;124m\"\u001b[39m\u001b[38;5;124mvalue\u001b[39m\u001b[38;5;124m\"\u001b[39m] \u001b[38;5;241m=\u001b[39m \u001b[38;5;28mself\u001b[39m\u001b[38;5;241m.\u001b[39m_unwrap_value(response\u001b[38;5;241m.\u001b[39mget(\u001b[38;5;124m\"\u001b[39m\u001b[38;5;124mvalue\u001b[39m\u001b[38;5;124m\"\u001b[39m, \u001b[38;5;28;01mNone\u001b[39;00m))\n\u001b[0;32m    346\u001b[0m     \u001b[38;5;28;01mreturn\u001b[39;00m response\n",
      "File \u001b[1;32m~\\anaconda3\\lib\\site-packages\\selenium\\webdriver\\remote\\errorhandler.py:229\u001b[0m, in \u001b[0;36mErrorHandler.check_response\u001b[1;34m(self, response)\u001b[0m\n\u001b[0;32m    227\u001b[0m         alert_text \u001b[38;5;241m=\u001b[39m value[\u001b[38;5;124m\"\u001b[39m\u001b[38;5;124malert\u001b[39m\u001b[38;5;124m\"\u001b[39m]\u001b[38;5;241m.\u001b[39mget(\u001b[38;5;124m\"\u001b[39m\u001b[38;5;124mtext\u001b[39m\u001b[38;5;124m\"\u001b[39m)\n\u001b[0;32m    228\u001b[0m     \u001b[38;5;28;01mraise\u001b[39;00m exception_class(message, screen, stacktrace, alert_text)  \u001b[38;5;66;03m# type: ignore[call-arg]  # mypy is not smart enough here\u001b[39;00m\n\u001b[1;32m--> 229\u001b[0m \u001b[38;5;28;01mraise\u001b[39;00m exception_class(message, screen, stacktrace)\n",
      "\u001b[1;31mNoSuchWindowException\u001b[0m: Message: no such window: target window already closed\nfrom unknown error: web view not found\n  (Session info: chrome=117.0.5938.134)\nStacktrace:\n\tGetHandleVerifier [0x00007FF76FAD52A2+57122]\n\t(No symbol) [0x00007FF76FA4EA92]\n\t(No symbol) [0x00007FF76F91E3AB]\n\t(No symbol) [0x00007FF76F8FE1B9]\n\t(No symbol) [0x00007FF76F97B417]\n\t(No symbol) [0x00007FF76F98E24F]\n\t(No symbol) [0x00007FF76F976DB3]\n\t(No symbol) [0x00007FF76F94D2B1]\n\t(No symbol) [0x00007FF76F94E494]\n\tGetHandleVerifier [0x00007FF76FD7EF82+2849794]\n\tGetHandleVerifier [0x00007FF76FDD1D24+3189156]\n\tGetHandleVerifier [0x00007FF76FDCACAF+3160367]\n\tGetHandleVerifier [0x00007FF76FB66D06+653702]\n\t(No symbol) [0x00007FF76FA5A208]\n\t(No symbol) [0x00007FF76FA562C4]\n\t(No symbol) [0x00007FF76FA563F6]\n\t(No symbol) [0x00007FF76FA467A3]\n\tBaseThreadInitThunk [0x00007FFC796A257D+29]\n\tRtlUserThreadStart [0x00007FFC7A64AA68+40]\n"
     ]
    }
   ],
   "source": [
    "from selenium.webdriver.common.by import By\n",
    "from selenium.webdriver.chrome.service import Service\n",
    "from selenium.webdriver.chrome.options import Options\n",
    "from selenium import webdriver \n",
    "import time\n",
    "\n",
    "options = webdriver.ChromeOptions()\n",
    "options.add_argument(\"--incognito\")\n",
    "s = Service(r'C:\\Users\\lucas\\Downloads\\chromedriver-win64\\chromedriver-win64\\chromedriver.exe')\n",
    "i = 0\n",
    "\n",
    "driver = webdriver.Chrome(service=s, options=options)\n",
    "\n",
    "urll = \"https://edisciplinas.usp.br/auth/shibboleth\"\n",
    "driver.get(urll)\n",
    "\n",
    "\n",
    "print(\"Qual seu número USP?\")\n",
    "Username = input()\n",
    "print(\"E a sua senha?\")\n",
    "Senha = input()\n",
    "\n",
    "driver.find_element(By.XPATH ,'.//*[@id=\"username\"]').send_keys(Username)\n",
    "driver.find_element(By.XPATH ,'.//*[@id=\"password\"]').send_keys(Senha)\n",
    "driver.find_element(By.XPATH ,'.//*[@id=\"login-main-content\"]/div[1]/form/button').click()\n",
    "\n",
    "urll = \"https://edisciplinas.usp.br/user/index.php?id=8003&perpage=5000\"\n",
    "driver.get(urll)\n",
    "\n",
    "time.sleep(2)\n",
    "driver.find_element(By.XPATH ,'.//*[@id]/div[3]/button[2]').click()\n",
    "driver.find_element(By.XPATH ,'.//*[@id]/button[3]').click()\n",
    "time.sleep(2)\n",
    "\n",
    "with open(f'Emails_USP_Adm.csv','a') as file:\n",
    "            \n",
    "    for i in range (0,932):\n",
    "        try:\n",
    "            driver.find_element(By.XPATH ,f'//*[@id=\"user-index-participants-8003_r{i}_c0\"]/a').click()\n",
    "            Email = driver.find_element(By.XPATH , '//*[@id=\"region-main\"]/div/div/div/section[1]/div/ul/li[1]/dl/dd/a')\n",
    "            file.write(Email.text + \";\"\"\\n\")\n",
    "            print(Email.text)\n",
    "        except:\n",
    "            pass\n",
    "        driver.back()\n",
    "        \n",
    "driver.quit()"
   ]
  }
 ],
 "metadata": {
  "kernelspec": {
   "display_name": "Python 3 (ipykernel)",
   "language": "python",
   "name": "python3"
  },
  "language_info": {
   "codemirror_mode": {
    "name": "ipython",
    "version": 3
   },
   "file_extension": ".py",
   "mimetype": "text/x-python",
   "name": "python",
   "nbconvert_exporter": "python",
   "pygments_lexer": "ipython3",
   "version": "3.9.12"
  }
 },
 "nbformat": 4,
 "nbformat_minor": 5
}
